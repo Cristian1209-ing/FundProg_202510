{
  "nbformat": 4,
  "nbformat_minor": 0,
  "metadata": {
    "colab": {
      "provenance": [],
      "collapsed_sections": [
        "hx7SDbm6zlTQ",
        "3atcxeGezuUs"
      ],
      "include_colab_link": true
    },
    "kernelspec": {
      "name": "python3",
      "display_name": "Python 3"
    },
    "language_info": {
      "name": "python"
    }
  },
  "cells": [
    {
      "cell_type": "markdown",
      "metadata": {
        "id": "view-in-github",
        "colab_type": "text"
      },
      "source": [
        "<a href=\"https://colab.research.google.com/github/Fabian23007/FundProg_202510/blob/main/Ejercicios_Pseudoc%C3%B3digo.ipynb\" target=\"_parent\"><img src=\"https://colab.research.google.com/assets/colab-badge.svg\" alt=\"Open In Colab\"/></a>"
      ]
    },
    {
      "cell_type": "markdown",
      "source": [
        "## Pseudocódigo\n",
        "### _Nombre: Fabian Oviedo, Javier Perez, Cristian Robayo_\n",
        "### IDs: 000577288, 000575898, 000563245\n",
        "### Email: Fabian.oviedog@upb.edu.co, javier.perezs@upb.edu.co, cristian.robayo@upb.edu.co\n",
        "\n",
        "\n"
      ],
      "metadata": {
        "id": "RvCXOu0fit8-"
      }
    },
    {
      "cell_type": "markdown",
      "source": [
        "### 1. Información Personal\n",
        "Diseña un programa que muestre la siguiente información:\n",
        "• Tu nombre\n",
        "\n",
        "• Tu dirección, con ciudad, estado y código postal\n",
        "\n",
        "• Tu número de teléfono\n",
        "\n",
        "• Tu especialización universitaria\n",
        "```\n",
        "\n",
        "Start\n",
        "\n",
        "// 1.Pseudocodigo perfil\n",
        "\n",
        "  declare int age\n",
        "  declare str name\n",
        "  declare str address\n",
        "  declare str city\n",
        "  declare str state\n",
        "  declare int zip_code\n",
        "  declare int phone\n",
        "  declare str university specialization\n",
        "\n",
        "\n",
        "  display \"ingrese su nombre: \"\n",
        "  input name\n",
        "\n",
        "  display \"ingrese su ciudad: \"\n",
        "  input  city\n",
        "\n",
        "  display \"ingrese su Estado: \"\n",
        "  input state\n",
        "\n",
        "  display \"digite su edad: \"\n",
        "  input age\n",
        "\n",
        "  display \"digite su dirección: \"\n",
        "  input agaddress\n",
        "\n",
        "  display \"digite su telefono: \"\n",
        "  input phone\n",
        "\n",
        "  display \"digite su código postal: \"\n",
        "  input zip_code\n",
        "\n",
        "  display \" ingrese su especialización universitaria\"\n",
        "  input university specialization\n",
        "  \n",
        "  display \"Te llamas\" ,name ,\"tienes\", age, \"años\", \"vives en\", address, city, state zip_code, \"tu numero es\", phone, \"y estudias\", university specialization.\n",
        "\n",
        "End\n",
        "```"
      ],
      "metadata": {
        "id": "V95g9M820k3M"
      }
    },
    {
      "cell_type": "code",
      "source": [
        "name= (input(\"ingrese su nombre: \"))\n",
        "city= (input(\"ingrese su ciudad: \"))\n",
        "state= (input(\"ingrese su Estado: \"))\n",
        "age= (input(\"ingrese su edad: \"))\n",
        "address= (input(\"ingrese su dirección: \"))\n",
        "phone= (input(\"ingrese su telefono: \"))\n",
        "zip_code= (input(\"ingrese su código postal: \"))\n",
        "university_specialization= (input(\"ingrese su especialización universitaria: \"))\n",
        "print (name + \" tiene \" + age + \" vive en \" +  address  + \" \"+ city + \", \" +  state +\" \"  + zip_code + \", \" + \"su numero es: \" + phone + \" y estudias: \" + university_specialization)"
      ],
      "metadata": {
        "id": "hNajLn2Q8JMF",
        "colab": {
          "base_uri": "https://localhost:8080/"
        },
        "outputId": "71ebe2a9-c4fd-4c12-8adb-818ccffa5df8"
      },
      "execution_count": 3,
      "outputs": [
        {
          "output_type": "stream",
          "name": "stdout",
          "text": [
            "ingrese su nombre: fabian\n",
            "ingrese su ciudad: monteria\n",
            "ingrese su Estado: cordoba\n",
            "ingrese su edad: 12\n",
            "ingrese su dirección: 2131231\n",
            "ingrese su telefono: 1231231\n",
            "ingrese su código postal: 123123\n",
            "ingrese su especialización universitaria: ing electronico\n",
            "fabian tiene 12 vive en 2131231 monteria, cordoba 123123, su numero es: 1231231y estudias: ing electronico\n"
          ]
        }
      ]
    },
    {
      "cell_type": "markdown",
      "source": [
        "###2. Predicción de Ventas\n",
        "\n",
        "Una empresa ha determinado que su beneficio anual es típicamente el 23% de las ventas totales. Diseña un programa que pida al usuario ingresar la cantidad proyectada de ventas totales, y luego muestre el beneficio que se obtendrá de esa cantidad.\n",
        "\n",
        "Pista: Usa el valor 0.23 para representar el 23%.\n",
        "```\n",
        "start\n",
        "  // 2. Predicción de ventas\n",
        "\n",
        "  declare int cantidad_total\n",
        "  declare real beneficio_anual = 0.23\n",
        "  declare real beneficio_final\n",
        "\n",
        "  display = \"Ingresa la cantidad de ventas totales\"\n",
        "  input cantidad_total\n",
        "\n",
        "  set beneficio_final = cantidad_total * beneficio_anual\n",
        "  display = \"el beneficio que se obtuvo es de: \",beneficio_final\n",
        "  \n",
        "end\n",
        "```"
      ],
      "metadata": {
        "id": "JnvZGnCMOuJO"
      }
    },
    {
      "cell_type": "code",
      "source": [
        "# Ejercicio 2\n",
        "cantidad_total = int(input(\"Ingresa la cantidad total: \"))\n",
        "beneficio_anual = 0.23\n",
        "\n",
        "beneficio_final = cantidad_total * beneficio_anual\n",
        "\n",
        "beneficio_final = str(beneficio_final)\n",
        "\n",
        "print(\"El beneficio final es de: \" + beneficio_final)"
      ],
      "metadata": {
        "id": "nSCF0serPNnK"
      },
      "execution_count": null,
      "outputs": []
    },
    {
      "cell_type": "markdown",
      "source": [
        "### 3. Cálculo de Terreno\n",
        "Un acre de terreno es equivalente a 43,560 pies cuadrados. Diseña un programa que pida al\n",
        "usuario ingresar la cantidad total de pies cuadrados en un terreno y calcule el número de acres\n",
        "en el terreno.\n",
        "```\n",
        "\n",
        "start\n",
        "\n",
        "  // 3. total de acres\n",
        "  declare int cantidad de pie\n",
        "  declare int acre = 43560\n",
        "  diplay = \"ingresa la cantidad de pie\" input cantidad de pie\n",
        "  set acres = cantidad de pie / acre\n",
        "  display= \"total de pie en acres es: \", acres\n",
        "\n",
        "end\n",
        "```"
      ],
      "metadata": {
        "id": "7BmZs-jX65SC"
      }
    },
    {
      "cell_type": "code",
      "source": [
        "# Ejercicio 3. pie a acres\n",
        "valor= int(input(\"ingresa el valor, en pies: \"))\n",
        "acres= valor/43560\n",
        "acres= str(acres)\n",
        "print (\"total de pie en acres es:\", acres)"
      ],
      "metadata": {
        "id": "s6kLQZXN7A8t",
        "colab": {
          "base_uri": "https://localhost:8080/"
        },
        "outputId": "61bfe10f-8e9b-4966-fd26-eb6197b7ee55"
      },
      "execution_count": null,
      "outputs": [
        {
          "output_type": "stream",
          "name": "stdout",
          "text": [
            "ingresa el valor, en pies: 1\n",
            "total de pie en acres es: 2.295684113865932e-05\n"
          ]
        }
      ]
    },
    {
      "cell_type": "markdown",
      "source": [
        "### 4. Compra Total\n",
        "Un cliente en una tienda está comprando cinco artículos. Diseña un programa que pida el\n",
        "precio de cada artículo, y luego muestre el subtotal de la venta, la cantidad del impuesto de\n",
        "venta y el total. Asume que el impuesto de venta es del 6%.\n",
        "```\n",
        "\n",
        "\n",
        "Start\n",
        "\n",
        "//4. Compra total\n",
        "\n",
        "  declare float precio_a\n",
        "  declare float precio_b\n",
        "  declare float precio_c\n",
        "  declare float precio_d\n",
        "\n",
        "  Display \"Ingrese el precio del primer artículo\"\n",
        "  input precio_a\n",
        "  Display \"Ingrese el precio del segundo artículo\"\n",
        "  input precio_b\n",
        "  Display \"Ingrese el precio del tercer artículo\"\n",
        "  input precio_c\n",
        "  Display \"Ingrese el precio del cuarto artículo\"\n",
        "  input precio_d\n",
        "\n",
        "  set subtotal= precio_a + precio_b + precio_c + precio_d\n",
        "  \n",
        "  display \"su impuesto es del 6%\"\n",
        "  \n",
        "  set total= subtotal + (subtotal*0.6)\n",
        "\n",
        "  display \"su subtotal es de\", subtotal\n",
        "  display \"su total es de\", total\n",
        "\n",
        "end\n",
        "```"
      ],
      "metadata": {
        "id": "9kBmHchi3HCT"
      }
    },
    {
      "cell_type": "code",
      "source": [
        "#Ejercicio 4\n",
        "precio_a = float(input(\"Ingrese el precio del primer artículo: \"))\n",
        "precio_b = float(input(\"Ingrese el precio del segundo artículo: \"))\n",
        "precio_c = float(input(\"Ingrese el precio del tercer artículo: \"))\n",
        "precio_d = float(input(\"Ingrese el precio del cuarto artículo: \"))\n",
        "subtotal = precio_a + precio_b + precio_c + precio_d\n",
        "print(\"Su impuesto es del 6%\")\n",
        "impuesto = subtotal * 0.06\n",
        "total = subtotal + impuesto\n",
        "print(\"Su subtotal es de\", subtotal)\n",
        "print(\"Su total es de\", total)"
      ],
      "metadata": {
        "id": "Xo9MajE-E5F8"
      },
      "execution_count": null,
      "outputs": []
    },
    {
      "cell_type": "markdown",
      "source": [
        "### 5. Distancia Recorrida\n",
        "Asumiendo que no hay accidentes ni retrasos, la distancia que un automóvil recorre por la autopista se puede calcular con la siguiente fórmula:\n",
        "\n",
        "Distancia = Velocidad × Tiempo\n",
        "\n",
        "Un automóvil viaja a 60 millas por hora. Diseña un programa que muestre lo siguiente:\n",
        "• La distancia que el automóvil recorrerá en 5 horas\n",
        "\n",
        "• La distancia que el automóvil recorrerá en 8 horas\n",
        "\n",
        "• La distancia que el automóvil recorrerá en 12 horas\n",
        "```\n",
        "// Ejercicio 5 - Distancia Recorrida\n",
        "\n",
        "start\n",
        "  declare constant velocidad = 60\n",
        "  declare real distancia1\n",
        "  declare real distancia2\n",
        "  declare real distancia3\n",
        "  \n",
        "  set distancia1 = velocidad * 5\n",
        "  set distancia2 = velocidad * 8\n",
        "  set distancia3 = velocidad * 12\n",
        "\n",
        "  display\"La distancia recorrida en 5 horas es de: \",distancia1\n",
        "  display\"La distancia recorrida en 8 horas es de: \",distancia2\n",
        "  display\"La distancia recorrida en 12 horas es de: \",distancia3\n",
        "end\n",
        "```"
      ],
      "metadata": {
        "id": "8HuBwo95ZQxj"
      }
    },
    {
      "cell_type": "code",
      "source": [
        "#Ejercicio 5 - distancia recorrida\n",
        "velocidad = 60\n",
        "\n",
        "distancia1 = velocidad * 5\n",
        "distancia2 = velocidad * 8\n",
        "distancia3 = velocidad * 12\n",
        "\n",
        "print(\"La distancia recorrida en 5 horas es de: \",distancia1)\n",
        "print(\"La distancia recorrida en 8 horas es de: \",distancia2)\n",
        "print(\"La distancia recorrida en 12 horas es de: \",distancia3)"
      ],
      "metadata": {
        "id": "wnbU31z_ZPmI"
      },
      "execution_count": null,
      "outputs": []
    },
    {
      "cell_type": "markdown",
      "source": [
        "### 6. Impuesto de Venta\n",
        "Diseña un programa que pida al usuario ingresar la cantidad de una compra. El programa debe\n",
        "luego calcular el impuesto de venta estatal y el impuesto de venta del condado. Asume que el\n",
        "impuesto de venta estatal es del 4% y el impuesto de venta del condado es del 2%. El\n",
        "programa debe mostrar la cantidad de la compra, el impuesto de venta estatal, el impuesto de\n",
        "venta del condado, el impuesto de venta total y el total de la venta (que es la suma de la\n",
        "cantidad de la compra más el impuesto de venta total).\n",
        "```\n",
        "start\n",
        "  // Ejercicio 6.compra con impuesto\n",
        "\n",
        "  Declare int valor de la compra\n",
        "  declare float valor total de impuesto\n",
        "  declare float impuesto estatal = 0.04\n",
        "  declare float impuesto condado = 0.02\n",
        "  display = \"ingresa el valor de la compra:\"\n",
        "  input valor de la compra\n",
        "  set valor total de impuesto = valor de la compra * (impuesto estatal + impuesto codado)\n",
        "  display = \"valor total de la compra:\", valor total del impuesto\n",
        "\n",
        "  end\n",
        "  \n",
        "  ```"
      ],
      "metadata": {
        "id": "b__U5HF4onEq"
      }
    },
    {
      "cell_type": "code",
      "source": [
        "#Ejercicio 6\n",
        "valor_de_la_compra = int(input(\"ingresa el valor: \"))\n",
        "valor_del_impuesto = 0.04 + 0.02\n",
        "valor_del_compra_total = valor_de_la_compra * valor_del_impuesto\n",
        "print(\"valor total de la compra:\", valor_del_compra_total)"
      ],
      "metadata": {
        "id": "Kfm1m881o2T8"
      },
      "execution_count": null,
      "outputs": []
    },
    {
      "cell_type": "markdown",
      "source": [
        "7. Millas por Galón\n",
        "Las millas por galón (MPG) de un automóvil se pueden calcular con la siguiente fórmula:\n",
        "MPG = Millas recorridas / Galones de gasolina usados\n",
        "Diseña un programa que pida al usuario el número de millas recorridas y los galones de\n",
        "gasolina usados. Debe calcular las millas por galón del automóvil y mostrar el resultado en\n",
        "pantalla.\n",
        "\n",
        "```\n",
        "// 7. Millas por Galón\n",
        "start\n",
        "  declare  float millas\n",
        "  declare  float galones\n",
        "\n",
        "  display \"¿cuántas millas recorrio?\"\n",
        "  input millas\n",
        "\n",
        "  display \"¿numeros de galones usados?\n",
        "  input galones\n",
        "\n",
        "  set MpG= millas/galones\n",
        "  \n",
        "  display \" usted utilizo\", MpG, \"por todo el recorrido\"\n",
        "\n",
        "end\n",
        "```"
      ],
      "metadata": {
        "id": "qOohiUzccZds"
      }
    },
    {
      "cell_type": "code",
      "source": [
        "# Ejercicio 7. Millas por Galón\n",
        "millas = float(input(\"¿cuántas millas recorrio?\"))\n",
        "\n",
        "galones = float(input(\"¿numeros de galones usados?\"))\n",
        "\n",
        "MpG = millas/galones\n",
        "\n",
        "print(\"usted utilizo\", MpG, \"por todo el recorrido\")\n"
      ],
      "metadata": {
        "id": "lxu5X1nBfTtC"
      },
      "execution_count": null,
      "outputs": []
    },
    {
      "cell_type": "markdown",
      "source": [
        "### 8. Propina, Impuesto y Total\n",
        "Diseña un programa que calcule la cantidad total de una comida comprada en un restaurante.\n",
        "El programa debe pedir al usuario que ingrese el costo de la comida, y luego calcular la\n",
        "cantidad de una propina del 15% y un impuesto de venta del 7%.\n",
        "\n",
        "Muestra cada una de estas cantidades y el total.\n",
        "```\n",
        "start\n",
        "  // ejercicio 8 - propina, impuesto y total\n",
        "  \n",
        "  declare real costo_comida\n",
        "  declare real propina\n",
        "  declare real impuesto\n",
        "  declare real comida_propina\n",
        "  declare real comida_impuesto\n",
        "  declare real comida_total\n",
        "\n",
        "  display\"Ingresa el costo de la comida\"\n",
        "  input costo_comida\n",
        "\n",
        "  set propina = costo_comida * 0.15\n",
        "  set impuesto = costo_comida * 0.07\n",
        "\n",
        "  set comida_propina = costo_comida + propina\n",
        "  set comida_impuesto = costo_comida + impuesto\n",
        "  set comida_total = costo_comida + comida_propina + comida_impuesto\n",
        "\n",
        "  display\"El costo de la comida con la propina es de: \", comida_propina\n",
        "  display\"El costo de la comida con el impuesto es de: \", comida_impuesto\n",
        "  display\"El costo total de la comida es de: \", comida_total\n",
        "\n",
        "end\n",
        "```"
      ],
      "metadata": {
        "id": "xVaCfM73bdxE"
      }
    },
    {
      "cell_type": "code",
      "source": [
        "#Código Propina, Impuesto y Total - Ejercicio 8\n",
        "\n",
        "costo_comida = float(input(\"Ingrese el valor de la comida: \"))\n",
        "\n",
        "#procesos\n",
        "propina = costo_comida * 0.15\n",
        "impuesto = costo_comida * 0.07\n",
        "\n",
        "comida_propina = costo_comida + propina\n",
        "comida_impuesto = costo_comida + impuesto\n",
        "comida_total = costo_comida + comida_propina + comida_impuesto\n",
        "\n",
        "print(\"El costo de la comida con la propina es de: \", comida_propina)\n",
        "print(\"El costo de la comida con el impuesto es de: \", comida_impuesto)\n",
        "print(\"El costo total de la comida es de: \", comida_total)"
      ],
      "metadata": {
        "id": "451oT24gbdDn"
      },
      "execution_count": null,
      "outputs": []
    },
    {
      "cell_type": "markdown",
      "source": [
        "### 9. Convertidor de Temperatura de Celsius a Fahrenheit\n",
        "Diseña un programa que convierta temperaturas de Celsius a Fahrenheit. La fórmula es la\n",
        "siguiente:\n",
        "\n",
        "F= 9/5*c +32\n",
        "\n",
        "El programa debe pedir al usuario que ingrese una temperatura en Celsius, y luego mostrar la\n",
        "temperatura convertida a Fahrenheit.\n",
        "\n",
        "```\n",
        "\n",
        "Start\n",
        "// 9. Pseudocódigo de C° A F°\n",
        "\n",
        "declare float C\n",
        "\n",
        "Display \"ingrese el valor, en celsius, que desea convertir: \"\n",
        "input C\n",
        "\n",
        "set F= ((9/5)*C)+ 32\n",
        "\n",
        "display \" Su valor, en Fahrenheit es:\", f\n",
        "\n",
        "End\n",
        "\n",
        "```"
      ],
      "metadata": {
        "id": "du1qGnWGj3K3"
      }
    },
    {
      "cell_type": "code",
      "source": [
        "# Ejercicio 9. código de C° A F°\n",
        "C = float(input(\"ingrese el valor, en celsius, que desea convertir: \"))\n",
        "\n",
        "F = ((9/5)*C)+ 32\n",
        "\n",
        "print(\"Su valor, en Fahrenheit es:\", F)"
      ],
      "metadata": {
        "colab": {
          "base_uri": "https://localhost:8080/"
        },
        "id": "fVUB-sF6NROa",
        "outputId": "e6ff2a33-f977-43b5-dd20-f1d144eac1d6"
      },
      "execution_count": null,
      "outputs": [
        {
          "output_type": "stream",
          "name": "stdout",
          "text": [
            "ingrese el valor, en celsius, que desea convertir: 3\n",
            "Su valor, en Fahrenheit es: 37.4\n"
          ]
        }
      ]
    },
    {
      "cell_type": "markdown",
      "source": [
        "### 10. Programa de Transacciones de Acciones\n",
        "El mes pasado Joe compró algunas acciones en Acme Software, Inc. Aquí están los detalles de\n",
        "la compra:\n",
        "• El número de acciones que Joe compró fue de 1,000.\n",
        "\n",
        "• Cuando Joe compró las acciones, pagó $32.87 por acción.\n",
        "\n",
        "• Joe pagó a su corredor una comisión que ascendió al 2% de la cantidad que pagó por\n",
        "las acciones.\n",
        "\n",
        "Dos semanas después Joe vendió las acciones. Aquí están los detalles de la venta:\n",
        "• El número de acciones que Joe vendió fue de 1,000.\n",
        "\n",
        "• Vendió las acciones por $33.92 por acción.\n",
        "\n",
        "• Pagó a su corredor otra comisión que ascendió al 2% de la cantidad que recibió por las acciones.\n",
        "\n",
        "Diseña un programa que muestre la siguiente información:\n",
        "\n",
        "• La cantidad de dinero que Joe pagó por las acciones.\n",
        "\n",
        "• La cantidad de la comisión que Joe pagó a su corredor cuando compró las acciones.\n",
        "\n",
        "• La cantidad por la que Joe vendió las acciones.\n",
        "\n",
        "• La cantidad de la comisión que Joe pagó a su corredor cuando vendió las acciones.\n",
        "\n",
        "Muestra la cantidad de ganancia o pérdida después de que Joe vendió las acciones y pagó a su corredor.\n",
        "\n",
        "```\n",
        "\n",
        "start\n",
        "\n",
        "  /// 10. acciones\n",
        "  declare int acciones = 1000\n",
        "  declare float comision = 0.02\n",
        "  daclare float pago  = 32.87\n",
        "  declare float venta = 33.92\n",
        "  pago de las acciones = 1000 * 32.87\n",
        "  dispay = \"cantidad de pago por las acciones:\",input pago de las acciones\n",
        "  pago de la comision = 0.02 (1000 * 32.87)\n",
        "  display = \"cantidad que pago por la comision:\" input pago de la comision\n",
        "  set venta de las acciones = 1000 * 33.92\n",
        "  dispay = \"dinero de la venta de las acciones:\",input venta de las acciones\n",
        "  set pago por la venta de la comision = 0.02 (1000 * 33.92)\n",
        "  display = \"dinero de la venta por la comision:\" input venta de la comision\n",
        "  set valor completo de la compra = pago de las acciones + pago de la comision\n",
        "  set valos completo de la venta = ven de las acciones - pago por laventa de la comision\n",
        "  set ganancias o perdidas = valos completo de la compra - valos completo de la venta\n",
        "  diplay = \"las ganancias o las perdidas de la acciones, mens para perdida mas ara ganancia:\" inputo ganancias o perdidas\n",
        "\n",
        "end\n",
        "\n",
        "```\n"
      ],
      "metadata": {
        "id": "073-n5LmbIq6"
      }
    },
    {
      "cell_type": "code",
      "source": [
        "#10\n",
        "pago_de_las_acciones = 1000 * 32.87\n",
        "print(\"cantidad de pago por las acciones:\", pago_de_las_acciones)\n",
        "pago_de_la_comision = 0.02 * 1000 * 32.87\n",
        "print(\"cantidad que pago por la comision:\", pago_de_la_comision)\n",
        "venta_de_las_acciones = 1000 * 33.92\n",
        "print(\"dinero de la venta de las acciones:\",  venta_de_las_acciones)\n",
        "pago_por_la_venta_de_la_comision = 0.02 * 1000 * 33.92\n",
        "print(\"dinero de la venta por la comision:\", pago_por_la_venta_de_la_comision)\n",
        "valor_completo_de_la_compra = pago_de_las_acciones + pago_de_la_comision\n",
        "valos__completo_de_la_venta = venta_de_las_acciones + venta_de_las_acciones\n",
        "ganancias_o_perdidas = valor_completo_de_la_compra - valos__completo_de_la_venta\n",
        "print(\"las ganancias o las perdidas de la acciones, mens para perdida mas ara ganancia:\",ganancias_o_perdidas)\n"
      ],
      "metadata": {
        "id": "RpI90DSsbM7C"
      },
      "execution_count": null,
      "outputs": []
    },
    {
      "cell_type": "markdown",
      "source": [
        "### 11. Cálculo de la utilidad en el negocio de venta de viviendas remodeladas\n",
        "Diseña un programa que calcule la utilidad (o pérdidas) de un negocio de venta de viviendas\n",
        "remodeladas a partir del precio de compra de la vivienda, los costos de remodelación, el\n",
        "precio de venta y un porcentaje de comisión sobre la venta.\n",
        "\n",
        "```\n",
        "start\n",
        "\n",
        "   ///11 ganancias operdidas de un negocio de vivienda\n",
        "   declare int compra\n",
        "   declare int remodelacion\n",
        "   declare int comision\n",
        "   declare int venta\n",
        "   declare int divisor = 100\n",
        "   display = \"ingresa el valor de la compra de vivienda:\" input compra\n",
        "   display = \"ingresa costo de remodelacion:\" input remodelacion\n",
        "   display = \"ingresa venta de la vivienda:\" input venta\n",
        "   display = \"ingresa comision de venta:\" input comision\n",
        "   set costo total = compra + remodelacion\n",
        "   set omision calculado = comision / devisor\n",
        "   set porcentaje de comision = compra * comision calculado\n",
        "   set venta total = venta - porcentaje total\n",
        "   diplay = \"ganancia o perdida de la vivienda:\", venta total\n",
        "precentaje\n",
        "end\n",
        "\n",
        "```"
      ],
      "metadata": {
        "id": "FtxPUii68C2m"
      }
    },
    {
      "cell_type": "code",
      "source": [
        "#11\n",
        "compra_ = int(input(\"ingresa precio de la compra: \"))\n",
        "remodelacion_ = int(input(\"ingresa valor de la remodelacion: \"))\n",
        "comision_ = int(input(\"ingresa el porcentaje de comicion: \"))\n",
        "venta_ = int(input(\"ingresa el valor de la venta: \"))\n",
        "porcentaje_de_comision = compra_ + remodelacion_\n",
        "comision_calculado = comision_ / 100\n",
        "venta_total = venta_ * comision_calculado\n",
        "ganancia_o_perdida = venta_total - porcentaje_de_comision\n",
        "print(\"ganancia o perdida:\", ganancia_o_perdida)\n",
        "\n",
        "\n"
      ],
      "metadata": {
        "id": "yyniBXhf8D2b"
      },
      "execution_count": null,
      "outputs": []
    },
    {
      "cell_type": "markdown",
      "source": [
        "### 12. Área de un círculo\n",
        "Diseñe un programa que calcule el área de un círculo a partir del radio ingresado por el\n",
        "usuario.\n",
        "\n",
        "```\n",
        "Start\n",
        "// 12. Área de un círculo\n",
        "\n",
        "declare const pi =3.1415\n",
        "declare float R\n",
        "\n",
        "display \"ingrese el radio del círculo: \"\n",
        "input R\n",
        "\n",
        "set= (pi)*(r**2)\n",
        "\n",
        "display \"Su Área es: \",R\n",
        "\n",
        "End\n",
        "\n",
        "```"
      ],
      "metadata": {
        "id": "JSeg2__YzUWn"
      }
    },
    {
      "cell_type": "code",
      "source": [
        "# 12. Area de un círculo\n",
        "r= float(input(\"ingrese el radio del circulo: \"))\n",
        "pi= 3.1415\n",
        "area= pi*(r**2)\n",
        "print(\"su área es:\", area,\"m^2\")"
      ],
      "metadata": {
        "colab": {
          "base_uri": "https://localhost:8080/"
        },
        "id": "6ZXdKcEX0oAB",
        "outputId": "888f3f15-3b62-4ae4-cbda-61e1c810aeb7"
      },
      "execution_count": null,
      "outputs": [
        {
          "output_type": "stream",
          "name": "stdout",
          "text": [
            "ingrese el radio del circulo: 4\n",
            "su área es: 50.264 m^2\n"
          ]
        }
      ]
    },
    {
      "cell_type": "markdown",
      "source": [
        "### 13. Muffins\n",
        "Diseñe un programa que calcule las cantidades necesarias para producir un número de muffins solicitado por el usuario si para producir 10 unidades se necesita: 240 ml de leche, 280 g de harina, 30 g de levadura, 2.5 g de sal, 100 g de azúcar, 2 huevos y 15 g de mantequilla.\n",
        "\n",
        "```\n",
        "start\n",
        "  // Ejercicio 13 - Muffins\n",
        "\n",
        "  declare int num_muffins\n",
        "  declare real leche\n",
        "  declare real harina\n",
        "  declare real levadura\n",
        "  declare real sal\n",
        "  declare real azucar\n",
        "  declare real huevo\n",
        "  declare real mantequilla\n",
        "\n",
        "  display\"Introduce la cantidad de muffins: \"\n",
        "  input num_muffins\n",
        "\n",
        "  set leche = num_muffins * (240/10)\n",
        "  set harina = num_muffins * (280/10)\n",
        "  set levadura = num_muffins * (30/10)\n",
        "  set sal = num_muffins * (2.5/10)\n",
        "  set azucar = num_muffins * (100/10)\n",
        "  set huevo = num_muffins * (2/10)\n",
        "  set mantequilla = num_muffins * (15/10)\n",
        "\n",
        "  display\"Para hacer \",num_muffins,\" muffins, se necesitan: \"\n",
        "  display leche,\"ml de leche\"\n",
        "  display harina,\"gramos de harina\"\n",
        "  display levadura,\"gramos de levadura\"\n",
        "  display sal,\"gramos de sal\"\n",
        "  display azucar,\"gramos de azucar\"\n",
        "  display huevo,\"huevos\"\n",
        "  display mantequilla,\"gramos de mantequilla\"\n",
        "\n",
        "end\n",
        "```"
      ],
      "metadata": {
        "id": "i3qgLDEY2dof"
      }
    },
    {
      "cell_type": "code",
      "source": [
        "# Ejercicio 13 - Muffins\n",
        "\n",
        "\n",
        "num_muffins = int(input(\"Ingrese la cantidad de muffins: \"))\n",
        "leche = num_muffins * (240/10)\n",
        "harina = num_muffins * (280/10)\n",
        "levadura = num_muffins * (30/10)\n",
        "sal = num_muffins * (2.5/10)\n",
        "azucar = num_muffins * (100 / 10)\n",
        "huevo = num_muffins * (2 / 10)\n",
        "mantequilla = num_muffins * (15 / 10)\n",
        "\n",
        "print(\"para hacer \",num_muffins,\" muffins, se necesitan: \")\n",
        "print(leche,\"ml de leche\")\n",
        "print(harina,\"gramos de harina\")\n",
        "print(levadura,\"gramos de levadura\")\n",
        "print(sal,\"gramos de sal\")\n",
        "print(azucar,\"gramos de azucar\")\n",
        "print(huevo,\"huevos\")\n",
        "print(mantequilla,\"gramos de mantequilla\")"
      ],
      "metadata": {
        "id": "TJmULPS32fD2"
      },
      "execution_count": null,
      "outputs": []
    },
    {
      "cell_type": "markdown",
      "source": [
        "### 14. Nota promedio\n",
        "Diseñe un programa que calcule el promedio ponderado de dos notas dados sus pesos y\n",
        "valores.\n",
        "\n",
        "```\n",
        "//  Ejercicio 14 - promedio de dos notas con su peso\n",
        "start\n",
        "  declare real nota1\n",
        "  declare real nota2\n",
        "  declare real porcentaje1\n",
        "  declare real porcentaje2\n",
        "  declare real resultnota1\n",
        "  declare real resultnota2\n",
        "  declare real promedio\n",
        "\n",
        "  display \"Ingresa la nota 1\"\n",
        "  input nota1\n",
        "\n",
        "  display \"Ingresa la nota 2\"\n",
        "  input nota2\n",
        "\n",
        "  display \"Ingresa el porcentaje de la nota 1\"\n",
        "  input porcentaje1\n",
        "  \n",
        "  display \"Ingresa el porcentaje de la nota 2\"\n",
        "  input porcentaje2\n",
        "\n",
        "  set resultnota1 = nota1 * (porcentaje1 / 100)\n",
        "  set resultnota2 = nota2 * (porcentaje2 / 100)\n",
        "  set promedio = resultnota1 + resultnota2\n",
        "\n",
        "  display \"el promedio es: \",promedio\n",
        "\n",
        "end\n",
        "```"
      ],
      "metadata": {
        "id": "j5e4eo1bM6vo"
      }
    },
    {
      "cell_type": "code",
      "source": [
        "#Ejercicio 14 - promedio de dos notas con su peso\n",
        "\n",
        "nota1 = float(input(\"Ingresa la primera nota: \"))\n",
        "nota2 = float(input(\"Ingresa la segunda nota: \"))\n",
        "porcentaje1 = float(input(\"Ingresa el porcentaje de la nota 1: \"))\n",
        "porcentaje2 = float(input(\"Ingresa el porcentaje de la nota 2: \"))\n",
        "\n",
        "nota1 = nota1 * (porcentaje1 / 100)\n",
        "nota2 = nota2 * (porcentaje2 / 100)\n",
        "\n",
        "promedio = nota1 + nota2\n",
        "\n",
        "print(\"El promedio es: \", promedio)"
      ],
      "metadata": {
        "id": "RgWjDRRlCEWE"
      },
      "execution_count": null,
      "outputs": []
    },
    {
      "cell_type": "markdown",
      "source": [
        "### 15. Cálculo del Salario Neto Descripción\n",
        "Diseña un programa que calcule el salario neto de un empleado después de deducir\n",
        "impuestos. El programa debe solicitar al usuario su salario bruto mensual y el porcentaje de\n",
        "impuestos a aplicar. Luego debe calcular y mostrar el salario neto (salario bruto menos\n",
        "impuestos).\n",
        "\n",
        "```\n",
        "start\n",
        "\n",
        "    ///15 salario neto de un empleado\n",
        "    declare int salario\n",
        "    declare int impuesto\n",
        "    declare int divisor = 100\n",
        "    diplay = \"ingresa el salario bruto mensual\" input salario bruto\n",
        "    display = \"ingresa porcentaje de impuesto a aplicar\" input impuesto\n",
        "    set impuesto calculado = impuesto / divisor\n",
        "    set impuesto real = salario bruto * impuesto calculado\n",
        "    set salario = salario bruto - impuesto real\n",
        "    dipla = \"salario con impuest es:\", salario\n",
        "end\n",
        "```"
      ],
      "metadata": {
        "id": "W-YHqtOM8kFJ"
      }
    },
    {
      "cell_type": "code",
      "source": [
        "#15\n",
        "salario = int(input(\"ingresa el salario bruto mensual: \"))\n",
        "impuesto = int(input(\"ingresa el porcentaje de impuesto a aplicar: \"))\n",
        "impuesto_calculado = impuesto / 100\n",
        "impuesto_real = salario * impuesto_calculado\n",
        "salario = salario - impuesto_real\n",
        "print(\"salario con impuesto es:\", salario)\n"
      ],
      "metadata": {
        "id": "MPxrBNt98j6X"
      },
      "execution_count": null,
      "outputs": []
    },
    {
      "cell_type": "markdown",
      "source": [
        "### 16. Calculadora de Índice de Masa Corporal (IMC)  \n",
        "Diseña un programa que solicite al usuario su peso en kilogramos y su altura en metros, y\n",
        "luego calcule y muestre su Índice de Masa Corporal (IMC) usando la fórmula:\n",
        "IMC= peso/altura^2\n",
        "\n",
        "```\n",
        "Start\n",
        "// IMC - ejercicio 16\n",
        "\n",
        "  Declare Real Peso\n",
        "  declare Real Altura\n",
        "\n",
        "  Display \"Digite su peso, en kilogramos: \"\n",
        "  Input peso\n",
        "\n",
        "  Display \"Digite su altura, en metros: \"\n",
        "  Input altura\n",
        "  Set IMC= peso/(altura**2)\n",
        "  display \"Su IMC es:\", IMC\n",
        "\n",
        "End\n",
        "  ```\n"
      ],
      "metadata": {
        "id": "5wzmdl2r7YvI"
      }
    },
    {
      "cell_type": "code",
      "source": [
        "#16\n",
        "peso= float(input(\"Digite su peso, en kilogramos: \"))\n",
        "altura= float(input(\"Digite su altura, en metros: \"))\n",
        "IMC= peso/(altura**2)\n",
        "print(\"Su IMC es:\", IMC)"
      ],
      "metadata": {
        "id": "vnTPNfP37bfn"
      },
      "execution_count": null,
      "outputs": []
    },
    {
      "cell_type": "markdown",
      "source": [
        "### 17. Convertidor de Temperatura de Celsius a Fahrenheit\n",
        "Diseña un programa que convierta temperaturas de Celsius a Fahrenheit. La fórmula es la\n",
        "siguiente:\n",
        "F= 9/5*c +32\n",
        "El programa debe pedir al usuario que ingrese una temperatura en Celsius, y luego mostrar la\n",
        "temperatura convertida a Fahrenheit.\n",
        "\n",
        "```\n",
        "\n",
        "start\n",
        "// 17. Pseudocódigo de C° A F°\n",
        "\n",
        "  declare float C\n",
        "\n",
        "  Display \"ingrese el valor, en celsius, que desea convertir: \"\n",
        "  input C\n",
        "\n",
        "  set F= ((9/5)*C)+ 32\n",
        "\n",
        "  display \" Su valor, en Fahrenheit es:\", f\n",
        "\n",
        "end\n",
        "\n",
        "```"
      ],
      "metadata": {
        "id": "0efaBFpL7u9U"
      }
    },
    {
      "cell_type": "code",
      "source": [
        "c= float(input(\"ingrese el valor, en celsius, que desea convertir: \"))\n",
        "f= ((9/5)*c)+ 32\n",
        "print(\"Su valor, en Fahrenheit es:\", f)"
      ],
      "metadata": {
        "id": "-Gtfp-l770CR"
      },
      "execution_count": null,
      "outputs": []
    },
    {
      "cell_type": "markdown",
      "source": [
        "### 18. Cálculo de la Edad en Días  \n",
        "Diseña un programa que solicite al usuario su edad en años y luego calcule y muestre su edad\n",
        "en días, asumiendo que un año tiene 365 días. No se considera años bisiestos en este cálculo.\n",
        "\n",
        "```\n",
        "\n",
        "start\n",
        "\n",
        "   ///18 calcular la edad en dias\n",
        "   declare int edad\n",
        "   declare int dias = 365\n",
        "   display = \"ingresa la edad:\" input edad\n",
        "   set edad en dias = edad * dias\n",
        "   diplay = \"edad en dias e:\", edad en dias\n",
        "  \n",
        "  end\n",
        "```"
      ],
      "metadata": {
        "id": "-1tFysUj8vH6"
      }
    },
    {
      "cell_type": "code",
      "source": [
        "#18\n",
        "edad = int(input(\"ingresa la edad: \"))\n",
        "edad_en_dias = edad * 365\n",
        "print(\"edad en dias:\", edad_en_dias)\n"
      ],
      "metadata": {
        "id": "zE5-KcI48u-F"
      },
      "execution_count": null,
      "outputs": []
    },
    {
      "cell_type": "markdown",
      "source": [
        "### 19. Cálculo de Intereses Compuestos\n",
        "Diseña un programa que calcule el monto final de una inversión utilizando interés compuesto. El programa debe solicitar al usuario el capital inicial, la tasa de interés anual (en porcentaje), el número de años de la inversión, y la cantidad de veces que el interés se capitaliza por año.\n",
        "\n",
        "Luego, debe calcular y mostrar el monto final utilizando la fórmula:\n",
        "\n",
        "Monto final= capital*(1+tasa/n)^n*tiempo\n",
        "\n",
        "Donde:\n",
        "• 𝑐𝑎𝑝𝑖𝑡𝑎𝑙 es el capital inicial.\n",
        "\n",
        "• 𝑡𝑎𝑠𝑎 es la tasa de interés anual.\n",
        "\n",
        "• 𝑛 es la cantidad de veces que el interés se capitaliza por año.\n",
        "\n",
        "• 𝑡𝑖𝑒𝑚𝑝𝑜 es el número de años de la inversión.\n",
        "\n",
        "```\n",
        "start\n",
        "  // Ejercicio 19\n",
        "\n",
        "  declare real capital\n",
        "  declare real tasa\n",
        "  declare int n\n",
        "  declare int tiempo\n",
        "  declare real monto_final\n",
        "\n",
        "  display\"Ingresa el capital inicial: \"\n",
        "  input capital\n",
        "  \n",
        "  display\"Ingresa la tasa de interés anual: \"\n",
        "  input tasa\n",
        "  \n",
        "  display\"Ingresa la cantidad de veces que el interés se capitaliza por año: \"\n",
        "  input n\n",
        "  \n",
        "  display\"Ingresa el numero de años: \"\n",
        "  input tiempo\n",
        "\n",
        "  set monto_final = capital * (1+(tasa/n))^(n*tiempo)\n",
        "  display\"El monto final es: \", monto_final\n",
        "\n",
        "end\n",
        "```"
      ],
      "metadata": {
        "id": "WdQJFi8oh3am"
      }
    },
    {
      "cell_type": "code",
      "source": [
        "#Ejercicio 19\n",
        "\n",
        "capital = float(input(\"Ingresa el capital inicial: \"))\n",
        "tasa = float(input(\"Ingresa la tasa de interés anual: \"))\n",
        "n = int(input(\"Ingresa la cantidad de veces que el interés se capitaliza por año: \"))\n",
        "tiempo = int(input(\"Numero de años: \"))\n",
        "\n",
        "monto_final = capital * (1+(tasa/n))**(n*tiempo)\n",
        "\n",
        "print(\"El monto final es de: \",monto_final)"
      ],
      "metadata": {
        "id": "QTfqYSwOnp2O"
      },
      "execution_count": null,
      "outputs": []
    }
  ]
}
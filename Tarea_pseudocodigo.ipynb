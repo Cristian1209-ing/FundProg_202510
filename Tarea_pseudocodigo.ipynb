{
  "nbformat": 4,
  "nbformat_minor": 0,
  "metadata": {
    "colab": {
      "provenance": [],
      "authorship_tag": "ABX9TyOMZ26vFpw5gyq+3hRXGY4w",
      "include_colab_link": true
    },
    "kernelspec": {
      "name": "python3",
      "display_name": "Python 3"
    },
    "language_info": {
      "name": "python"
    }
  },
  "cells": [
    {
      "cell_type": "markdown",
      "metadata": {
        "id": "view-in-github",
        "colab_type": "text"
      },
      "source": [
        "<a href=\"https://colab.research.google.com/github/Cristian1209-ing/FundProg_202510/blob/main/Tarea_pseudocodigo.ipynb\" target=\"_parent\"><img src=\"https://colab.research.google.com/assets/colab-badge.svg\" alt=\"Open In Colab\"/></a>"
      ]
    },
    {
      "cell_type": "markdown",
      "source": [
        "# tarea pseudocodigo\n",
        "## Cristian Daniel Robayo\n",
        "000563245"
      ],
      "metadata": {
        "id": "SiTrgeNhccKG"
      }
    },
    {
      "cell_type": "markdown",
      "source": [
        "#1"
      ],
      "metadata": {
        "id": "vlihTL9KcbjA"
      }
    },
    {
      "cell_type": "markdown",
      "source": [
        "## algroritmo:\n",
        "1. declaramos las variables dadas\n",
        "2. se hace la formulada para saber la resistencia total con los datos declarados\n",
        "3. despues lo mostramos el resustado."
      ],
      "metadata": {
        "id": "YOSFysnPXxnH"
      }
    },
    {
      "cell_type": "markdown",
      "source": [
        "```\n",
        "start\n",
        "    ///calculas la resistencia equivalente\n",
        "    declaro int resistencia 1\n",
        "    declaro int resistencia 2\n",
        "    declare int resistencia 3\n",
        "    declare int divisor = 1\n",
        "    display \"introduce la resistencia 1: \"\n",
        "    input resistencia 1\n",
        "      display \"introduce la resistencia 1: \"\n",
        "    input resistencia 2\n",
        "      display \"introduce la resistencia 1: \"\n",
        "    input resistencia 3\n",
        "    set resistencia total = devisor / (divisor / resistencia 1 + dividor / resistencia 2 + divisor / resistencia 3 + devisor / resistencia 4)\n",
        "    display \"resistencia total es: \", resistencia total\n",
        "  end\n",
        "\n",
        "  ```"
      ],
      "metadata": {
        "id": "fo2jWmGlcqjc"
      }
    },
    {
      "cell_type": "code",
      "source": [
        "resistencia_1 = int(input(\"ingresa la resistencia 1: \"))\n",
        "resistencia_2 = int(input(\"ingresa la resistencia 2: \"))\n",
        "resistencia_3 = int(input(\"ingresa la resistencia 3: \"))\n",
        "resistencia_total_1 = 1 / resistencia_1\n",
        "resistencia_total_2 = 1 / resistencia_2\n",
        "resistencia_total_3 = 1 / resistencia_3\n",
        "resistencia_total = 1 / (resistencia_total_1 + resistencia_total_2 + resistencia_total_3 )\n",
        "print(\"la resistencia total es:\", resistencia_total)"
      ],
      "metadata": {
        "colab": {
          "base_uri": "https://localhost:8080/"
        },
        "id": "MNL_hT2N4rLQ",
        "outputId": "bf4811c8-ba4d-4f32-b626-aed0b7e80ad2"
      },
      "execution_count": null,
      "outputs": [
        {
          "output_type": "stream",
          "name": "stdout",
          "text": [
            "la resistencia total es: 54.54545454545455\n"
          ]
        }
      ]
    },
    {
      "cell_type": "markdown",
      "source": [
        "#2"
      ],
      "metadata": {
        "id": "nWnPSTST4saD"
      }
    },
    {
      "cell_type": "markdown",
      "source": [
        "## algoritmo\n",
        "1. pide los valores de la corriente, resistencia y declaralos\n",
        "2. se hace la formulada para saber la potencia disparada  total con los datos declarados\n",
        "3. muestra el resustado"
      ],
      "metadata": {
        "id": "BOwJoj9NaSKK"
      }
    },
    {
      "cell_type": "markdown",
      "source": [
        "```\n",
        "start\n",
        "    ///calcular la potencia disipada\n",
        "    declare int i\n",
        "    declare int r\n",
        "    declare int potencia = 2\n",
        "    display \"ingresa el valor de la corriente: \"\n",
        "    input i\n",
        "    display \"ingresa el valor de la resistencia: \"\n",
        "    input r\n",
        "    set potencia = i**potencia*r\n",
        "    display \"potencia disparada es: \", potencia  \n",
        "end\n",
        "```"
      ],
      "metadata": {
        "id": "j7pdXHxcpjSe"
      }
    },
    {
      "cell_type": "code",
      "source": [
        "i = int(input(\"ingresa valor de la corriente: \"))\n",
        "r = int(input(\"ingresa el valor de la resistencia: \"))\n",
        "potencia = 2\n",
        "potencia = i ** potencia *r\n",
        "print(\"potencia disparada es: \", potencia)"
      ],
      "metadata": {
        "colab": {
          "base_uri": "https://localhost:8080/"
        },
        "id": "-5Ot_PTUIkHZ",
        "outputId": "5da546eb-1ed1-44c7-a9c9-b15adb4ca465"
      },
      "execution_count": null,
      "outputs": [
        {
          "output_type": "stream",
          "name": "stdout",
          "text": [
            "potencia disparada es:  200\n"
          ]
        }
      ]
    },
    {
      "cell_type": "markdown",
      "source": [
        "#3"
      ],
      "metadata": {
        "id": "wBIDaTBYEtb3"
      }
    },
    {
      "cell_type": "markdown",
      "source": [
        "## algoritmo\n",
        "1. pide los valores de volaje, resistencia y declara la variable\n",
        "2. realizar la formula para calcular la corriente electrica\n",
        "3. mustra el resustado dado"
      ],
      "metadata": {
        "id": "1oyHsQZdewdy"
      }
    },
    {
      "cell_type": "markdown",
      "source": [
        "```\n",
        "start\n",
        "     ///calcular la corriente electrica\n",
        "     declare int v\n",
        "     declare int r\n",
        "     display \"ingresa el valor del voltaje: \"\n",
        "     input v\n",
        "     display \"ingresa el valor de la resistencia: \"\n",
        "     input r\n",
        "     set i = v / r\n",
        "     display \"corriente electrica es: \", i\n",
        "end\n",
        "\n",
        "```"
      ],
      "metadata": {
        "id": "y3mz-Zt6EtWi"
      }
    },
    {
      "cell_type": "code",
      "source": [
        "v = int(input(\"ingresa el valor del voltaje: \"))\n",
        "r = int(input(\"ingresa el valor de la resistencia: \"))\n",
        "i = v / r\n",
        "print(\"corriente electrica es: \", i)"
      ],
      "metadata": {
        "colab": {
          "base_uri": "https://localhost:8080/"
        },
        "id": "_CwP_EG2KjfY",
        "outputId": "5dc5d552-4f44-4d43-aec1-592f75fcc24f"
      },
      "execution_count": null,
      "outputs": [
        {
          "output_type": "stream",
          "name": "stdout",
          "text": [
            "corriente electrica es:  2.0\n"
          ]
        }
      ]
    },
    {
      "cell_type": "markdown",
      "source": [
        "#4"
      ],
      "metadata": {
        "id": "aVF_akoZKoSI"
      }
    },
    {
      "cell_type": "markdown",
      "source": [
        "## algoritmo\n",
        "1. pide los valores del capasitador, resistencia y declara la variable\n",
        "2. realizar la formula para calcular la constante de tiempo en un circuito rc\n",
        "3. mustra el resustado dado"
      ],
      "metadata": {
        "id": "snCfMf59e2Xq"
      }
    },
    {
      "cell_type": "markdown",
      "source": [
        "```\n",
        "start\n",
        "    ///calculat la constante de tiempo en un ciruito RC\n",
        "    declare int r\n",
        "    declare int c\n",
        "    display \"ingresa el valor de la resistencia: \"\n",
        "    input r\n",
        "    display \"ingresa el valor del capasitador: \"\n",
        "    input c\n",
        "    t = r * c\n",
        "    display \"la constante del tiempo es: \",  t\n",
        "end\n",
        "```"
      ],
      "metadata": {
        "id": "nnNyDkVfKoNq"
      }
    },
    {
      "cell_type": "code",
      "source": [
        "r = int(input(\"ingresa el valor de la resistencia: \"))\n",
        "c = float(input(\"ingresa el valor del capasitador: \"))\n",
        "t = r * c\n",
        "print(\"la constante del tiempo es: \", t)"
      ],
      "metadata": {
        "id": "RnUCf_SWKrj5",
        "colab": {
          "base_uri": "https://localhost:8080/"
        },
        "outputId": "c4062998-f1e1-420a-cbaa-115657cbfd54"
      },
      "execution_count": null,
      "outputs": [
        {
          "output_type": "stream",
          "name": "stdout",
          "text": [
            "la constante del tiempo es:  0.05 s\n"
          ]
        }
      ]
    },
    {
      "cell_type": "markdown",
      "source": [
        "#5"
      ],
      "metadata": {
        "id": "ENOHUZXNNmG9"
      }
    },
    {
      "cell_type": "markdown",
      "source": [
        "## algoritmo\n",
        "1. pide los valores de las 4 horas y declara las horas\n",
        "2. realizar la formula para calcular el consumo de energia\n",
        "3. mustra el resustado dado"
      ],
      "metadata": {
        "id": "UZWSV_ZLfKPG"
      }
    },
    {
      "cell_type": "markdown",
      "source": [
        "```\n",
        "start\n",
        "    ///calcular el consumo de energia\n",
        "\n",
        "    declare int hora 1 = 25\n",
        "    declare int hora 2 = 25\n",
        "    declare int hora 3 = 50\n",
        "    declare int hora 4 = 100\n",
        "    display \"ingrsa la hora 1: \"\n",
        "    input hora 1\n",
        "    display \"ingrsa la hora 2: \"\n",
        "    input hora 2\n",
        "    display \"ingrsa la hora 3: \"\n",
        "    input hora 3\n",
        "    display \"ingrsa la hora 4: \"\n",
        "    input hora 4\n",
        "    set kWh = hora 1 + hora 2 + hora 3 + hora 4\n",
        "    display \"consumo de energia es: \", kwh\n",
        "```"
      ],
      "metadata": {
        "id": "qTV9in58NmCW"
      }
    },
    {
      "cell_type": "code",
      "source": [
        "hora_1 = int(input(\"ingrsa la hora 1: \"))\n",
        "hora_2 = int(input(\"ingrsa la hora 2: \"))\n",
        "hora_3 = int(input(\"ingrsa la hora 3: \"))\n",
        "hora_4 = int(input(\"ingrsa la hora 4: \"))\n",
        "kwh = hora_1 + hora_2 + hora_3 + hora_4\n",
        "print(\"concumo de energia es: \", kwh)"
      ],
      "metadata": {
        "id": "SsoKD9euNl5L",
        "colab": {
          "base_uri": "https://localhost:8080/"
        },
        "outputId": "8d536f09-c252-4df7-9cd7-cc8264b73031"
      },
      "execution_count": null,
      "outputs": [
        {
          "output_type": "stream",
          "name": "stdout",
          "text": [
            "concumo de energia es:  200\n"
          ]
        }
      ]
    }
  ]
}